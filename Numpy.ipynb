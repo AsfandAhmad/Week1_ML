{
 "cells": [
  {
   "cell_type": "code",
   "execution_count": 1,
   "metadata": {},
   "outputs": [],
   "source": [
    "import numpy as np\n"
   ]
  },
  {
   "cell_type": "markdown",
   "metadata": {},
   "source": [
    "# Numpy Array Creation Methods\n",
    "\n",
    "Numpy is a python library used for scientific computing. It allows to create n-dimensional arrays. It has ability to quickly broadcast functions.\n",
    "It provides built-in, linear Algebra, statistical distributions, random number capabilities and much more.\n",
    "\n",
    "Most commonly used numpy array creation methods are discussed below."
   ]
  },
  {
   "cell_type": "markdown",
   "metadata": {},
   "source": [
    "## Transforming Standard Python Data Structures"
   ]
  },
  {
   "cell_type": "markdown",
   "metadata": {},
   "source": [
    "### List Conversion"
   ]
  },
  {
   "cell_type": "code",
   "execution_count": 2,
   "metadata": {},
   "outputs": [
    {
     "name": "stdout",
     "output_type": "stream",
     "text": [
      "[1 2 3 4 5]\n"
     ]
    },
    {
     "data": {
      "text/plain": [
       "numpy.ndarray"
      ]
     },
     "execution_count": 2,
     "metadata": {},
     "output_type": "execute_result"
    }
   ],
   "source": [
    "my_list = [1, 2, 3, 4, 5]\n",
    "arr = np.array(my_list) # convert list into an array.\n",
    "print(arr)\n",
    "type(arr)"
   ]
  },
  {
   "cell_type": "markdown",
   "metadata": {},
   "source": [
    "### Tuple Conversion"
   ]
  },
  {
   "cell_type": "code",
   "execution_count": 3,
   "metadata": {},
   "outputs": [
    {
     "name": "stdout",
     "output_type": "stream",
     "text": [
      "[10 20 30 40]\n"
     ]
    },
    {
     "data": {
      "text/plain": [
       "numpy.ndarray"
      ]
     },
     "execution_count": 3,
     "metadata": {},
     "output_type": "execute_result"
    }
   ],
   "source": [
    "my_tuple = 10, 20, 30, 40\n",
    "arr_tuple = np.array(my_tuple) # array created from tuple.\n",
    "print(arr_tuple)\n",
    "type(arr_tuple)"
   ]
  },
  {
   "cell_type": "markdown",
   "metadata": {},
   "source": [
    "## Set Conversion"
   ]
  },
  {
   "cell_type": "code",
   "execution_count": 4,
   "metadata": {},
   "outputs": [
    {
     "name": "stdout",
     "output_type": "stream",
     "text": [
      "{'King', 'Star', 'Harry', 'Moon'}\n"
     ]
    },
    {
     "data": {
      "text/plain": [
       "numpy.ndarray"
      ]
     },
     "execution_count": 4,
     "metadata": {},
     "output_type": "execute_result"
    }
   ],
   "source": [
    "my_set = {\"Harry\", \"King\", \"Star\",\"King\", \"Moon\"}\n",
    "arr_set = np.array(my_set)\n",
    "print(arr_set)\n",
    "type(arr_set)\n",
    "# Note: Array created from set will not allow duplicates."
   ]
  },
  {
   "cell_type": "markdown",
   "metadata": {},
   "source": [
    "### Dictionary Conversion"
   ]
  },
  {
   "cell_type": "markdown",
   "metadata": {},
   "source": [
    "Dictionary cannot be converted into single array, for dictionary conversion 2 arrays will be created.\n",
    "\n",
    "First Array: It will have all the keys.\n",
    "\n",
    "Second Array: It will have all the values.\n",
    "\n",
    "Direct conversion of dictionary into an array is not compatible as np.array expects iterable like list."
   ]
  },
  {
   "cell_type": "code",
   "execution_count": 5,
   "metadata": {},
   "outputs": [
    {
     "name": "stdout",
     "output_type": "stream",
     "text": [
      "Array with Keys:\n",
      " ['A' 'B' 'C' 'D']\n",
      "Array with Values:\n",
      " [10  4  8  7]\n",
      "Type of arr1:<class 'numpy.ndarray'>\n",
      "Type of arr2:<class 'numpy.ndarray'>\n"
     ]
    }
   ],
   "source": [
    "my_dict = {'A':10, 'B':4, 'C':8, 'D':7}\n",
    "\n",
    "arr1 = np.array(list(my_dict.keys())) # --> array with keys.\n",
    "arr2 = np.array(list(my_dict.values())) # --> array with values.\n",
    "\n",
    "print(\"Array with Keys:\\n\", arr1)\n",
    "print(\"Array with Values:\\n\", arr2)\n",
    "\n",
    "print(f\"Type of arr1:{type(arr1)}\\nType of arr2:{type(arr2)}\")"
   ]
  },
  {
   "cell_type": "markdown",
   "metadata": {},
   "source": [
    "## Array Creation with built-in functions"
   ]
  },
  {
   "cell_type": "markdown",
   "metadata": {},
   "source": [
    "### np.arange"
   ]
  },
  {
   "cell_type": "code",
   "execution_count": 6,
   "metadata": {},
   "outputs": [
    {
     "name": "stdout",
     "output_type": "stream",
     "text": [
      "[0 1 2 3 4 5 6 7 8 9]\n",
      "\n",
      " Array with step size of 2:\n",
      " [ 0  2  4  6  8 10]\n"
     ]
    }
   ],
   "source": [
    "array = np.arange(0, 10) # Works like traditional python's range function, will exclude the end value from the array.\n",
    "print(array)\n",
    "type(array)\n",
    "\n",
    "\n",
    "# Step parameter allows you to make steps of specific intervals.\n",
    "array2 = np.arange(0, 12, 2)\n",
    "print(\"\\n Array with step size of 2:\\n\", array2)"
   ]
  },
  {
   "cell_type": "markdown",
   "metadata": {},
   "source": [
    "## np.zeros "
   ]
  },
  {
   "cell_type": "code",
   "execution_count": 7,
   "metadata": {},
   "outputs": [
    {
     "name": "stdout",
     "output_type": "stream",
     "text": [
      "[[0. 0. 0. 0. 0.]\n",
      " [0. 0. 0. 0. 0.]\n",
      " [0. 0. 0. 0. 0.]\n",
      " [0. 0. 0. 0. 0.]\n",
      " [0. 0. 0. 0. 0.]]\n"
     ]
    }
   ],
   "source": [
    "# Entire array will contain zeros.\n",
    "\n",
    "arr_zeros = np.zeros(shape=(5, 5)) # --> Shape parameter to define shape of an array.\n",
    "\n",
    "# Default datatype of array created with np.zeros is float.\n",
    "\n",
    "print(arr_zeros)\n"
   ]
  },
  {
   "cell_type": "markdown",
   "metadata": {},
   "source": [
    "## np.ones"
   ]
  },
  {
   "cell_type": "code",
   "execution_count": 8,
   "metadata": {},
   "outputs": [
    {
     "name": "stdout",
     "output_type": "stream",
     "text": [
      "[[1. 1. 1. 1.]\n",
      " [1. 1. 1. 1.]\n",
      " [1. 1. 1. 1.]\n",
      " [1. 1. 1. 1.]]\n"
     ]
    }
   ],
   "source": [
    "# Entire array will have 1.\n",
    "arr_ones = np.ones(shape=(4, 4)) # It works similar to the np.zeros.\n",
    "\n",
    "print(arr_ones)"
   ]
  },
  {
   "cell_type": "markdown",
   "metadata": {},
   "source": [
    "## np.linspace"
   ]
  },
  {
   "cell_type": "markdown",
   "metadata": {},
   "source": [
    "Linspace creates an evenly spaced array.\n",
    "\n",
    "parameters: start_point, end_point, total number of values between start_point and end_point.\n",
    "\n",
    "Unlike np.arange it includes the end value into the array."
   ]
  },
  {
   "cell_type": "code",
   "execution_count": 9,
   "metadata": {},
   "outputs": [
    {
     "name": "stdout",
     "output_type": "stream",
     "text": [
      "[ 1.    3.25  5.5   7.75 10.  ]\n"
     ]
    }
   ],
   "source": [
    "linspace_arr = np.linspace(start = 1, stop = 10, num = 5)\n",
    "print(linspace_arr)"
   ]
  },
  {
   "cell_type": "markdown",
   "metadata": {},
   "source": [
    "### np.eye\n",
    "\n",
    "It is used to create identity matrix/array i.e. matrix/array having all diagonal enteries 1."
   ]
  },
  {
   "cell_type": "code",
   "execution_count": 10,
   "metadata": {},
   "outputs": [
    {
     "name": "stdout",
     "output_type": "stream",
     "text": [
      "[[1. 0. 0. 0. 0.]\n",
      " [0. 1. 0. 0. 0.]\n",
      " [0. 0. 1. 0. 0.]\n",
      " [0. 0. 0. 1. 0.]\n",
      " [0. 0. 0. 0. 1.]]\n"
     ]
    }
   ],
   "source": [
    "identity_matrix = np.eye(5) # Creates an identity matrix of order 5 by 5.\n",
    "\n",
    "print(identity_matrix)"
   ]
  },
  {
   "cell_type": "markdown",
   "metadata": {},
   "source": [
    "## Array Creation with random numbers."
   ]
  },
  {
   "cell_type": "markdown",
   "metadata": {},
   "source": [
    "### np.random.rand\n",
    "\n",
    "Creates an array of random numbers drawn from a uniform distribution over the range [0,1).\n",
    "\n",
    "0 is inclusive, 1 is exlusive\n",
    "\n",
    "Parameters: first argument = no.of row, second argument = no.of columns"
   ]
  },
  {
   "cell_type": "code",
   "execution_count": 11,
   "metadata": {},
   "outputs": [
    {
     "name": "stdout",
     "output_type": "stream",
     "text": [
      "Random array between 0 and 1:\n",
      " [0.92259392]\n",
      "\n",
      "Random array of shape 3 by 3:\n",
      " [[0.95853715 0.71309582 0.72197021]\n",
      " [0.79573604 0.35345297 0.86230193]\n",
      " [0.22562347 0.6471985  0.58543766]]\n"
     ]
    }
   ],
   "source": [
    "rand_arr = np.random.rand(1)\n",
    "print(\"Random array between 0 and 1:\\n\", rand_arr)\n",
    "\n",
    "rand_arr2 = np.random.rand(3, 3)\n",
    "print(\"\\nRandom array of shape 3 by 3:\\n\", rand_arr2)"
   ]
  },
  {
   "cell_type": "markdown",
   "metadata": {},
   "source": [
    "### np.random.randn\n",
    "\n",
    "Creates a random array from standard normal distribution.\n",
    "\n",
    "Standard normal distribution refers to a normal distribution with mean of 0 and standard deviation of 1.\n",
    "\n",
    "Values in array will be centered around 0, with most of the values falling within in the range of -3 to 3.\n",
    "\n"
   ]
  },
  {
   "cell_type": "code",
   "execution_count": 12,
   "metadata": {},
   "outputs": [
    {
     "name": "stdout",
     "output_type": "stream",
     "text": [
      "[ 0.07556844  1.87489733 -0.36730524 -0.28356289 -2.05635364 -0.49660477\n",
      "  0.28265597  1.59539293 -0.76764087 -1.80735558]\n",
      "\n",
      " [[ 0.58754368  0.2852985   0.75899554]\n",
      " [-0.16603266  0.63047706  1.90241673]\n",
      " [-0.43943501  0.85138849  0.11854918]]\n"
     ]
    }
   ],
   "source": [
    "arr = np.random.randn(10)\n",
    "print(arr)\n",
    "\n",
    "arr_ = np.random.randn(3, 3)\n",
    "print(\"\\n\", arr_)"
   ]
  },
  {
   "cell_type": "markdown",
   "metadata": {},
   "source": [
    "### np.random.randint\n",
    "\n",
    "Parameters: lower_threshold, higher_threshold (exclusive), size.\n",
    "\n",
    "Generates random array of integers.\n",
    "\n",
    "Shape can also be defined."
   ]
  },
  {
   "cell_type": "code",
   "execution_count": 13,
   "metadata": {},
   "outputs": [
    {
     "name": "stdout",
     "output_type": "stream",
     "text": [
      "[1 6 1]\n",
      "\n",
      "5 X 5 array:\n",
      " [[30 35 51 38 44]\n",
      " [71 15 21 15  1]\n",
      " [85 25 22 80 22]\n",
      " [83 95 64 92 76]\n",
      " [19 95 81 74 81]]\n"
     ]
    }
   ],
   "source": [
    "arr = np.random.randint(0, 10, size = 3)\n",
    "print(arr)\n",
    "\n",
    "arr_ = np.random.randint(0, 100, size = (5, 5)) # Creates an array of 5 X 5\n",
    "print(\"\\n5 X 5 array:\\n\", arr_)"
   ]
  },
  {
   "cell_type": "markdown",
   "metadata": {},
   "source": [
    "### np.random.seed"
   ]
  },
  {
   "cell_type": "code",
   "execution_count": 14,
   "metadata": {},
   "outputs": [
    {
     "data": {
      "text/plain": [
       "array([95, 11, 81, 70, 63, 87, 75,  9, 77, 40], dtype=int32)"
      ]
     },
     "execution_count": 14,
     "metadata": {},
     "output_type": "execute_result"
    }
   ],
   "source": [
    "np.random.seed(101) # intializes random number generation based on a specific value.\n",
    "myarr = np.random.randint(0, 100, size=10)\n",
    "myarr"
   ]
  },
  {
   "cell_type": "markdown",
   "metadata": {},
   "source": [
    "## Finding Max and Min Values along with their indexes."
   ]
  },
  {
   "cell_type": "code",
   "execution_count": 15,
   "metadata": {},
   "outputs": [
    {
     "name": "stdout",
     "output_type": "stream",
     "text": [
      "[1 2 3 4 5 6 7 8 9]\n",
      "Maximum Value: 9\n",
      "Index of Maximum Value: 8\n"
     ]
    }
   ],
   "source": [
    "myarr = np.arange(1, 10)\n",
    "print(myarr)\n",
    "print(\"Maximum Value:\", myarr.max())\n",
    "print(\"Index of Maximum Value:\", myarr.argmax()) # returns index of max value in an array."
   ]
  },
  {
   "cell_type": "code",
   "execution_count": 16,
   "metadata": {},
   "outputs": [
    {
     "name": "stdout",
     "output_type": "stream",
     "text": [
      "Minimum Value: 1\n",
      "Index of Minimum Value: 0\n"
     ]
    }
   ],
   "source": [
    "print(\"Minimum Value:\", myarr.min())\n",
    "print(\"Index of Minimum Value:\", myarr.argmin())"
   ]
  },
  {
   "cell_type": "markdown",
   "metadata": {},
   "source": [
    "### Shape and reshape"
   ]
  },
  {
   "cell_type": "code",
   "execution_count": 17,
   "metadata": {},
   "outputs": [
    {
     "name": "stdout",
     "output_type": "stream",
     "text": [
      "[ 1  2  3  4  5  6  7  8  9 10 11 12 13 14]\n",
      "\n",
      " Shape: (14,)\n",
      "\n",
      "Reshaped array:\n",
      " [[ 1  2  3  4  5  6  7]\n",
      " [ 8  9 10 11 12 13 14]]\n",
      "\n",
      "Shape: (2, 7)\n"
     ]
    }
   ],
   "source": [
    "myarr = np.arange(1, 15)\n",
    "print(myarr)\n",
    "\n",
    "# Shape is used to check number of rows and columns in an array. It return number of elements in a row for 1-Dimensional array.\n",
    "print(\"\\n Shape:\", myarr.shape)\n",
    "\n",
    "# Reshape is used to convert the shape of an array into your desired shape.\n",
    "reshaped_arr = myarr.reshape(2, 7) # --> 2-dimensional array having 2 rows and 7 columns will be created.\n",
    "print(\"\\nReshaped array:\\n\", reshaped_arr)\n",
    "print(\"\\nShape:\", reshaped_arr.shape)"
   ]
  },
  {
   "cell_type": "markdown",
   "metadata": {},
   "source": [
    "# Indexing and Selection"
   ]
  },
  {
   "cell_type": "code",
   "execution_count": 18,
   "metadata": {},
   "outputs": [
    {
     "data": {
      "text/plain": [
       "array([[ 0,  1,  2,  3,  4,  5,  6,  7,  8,  9],\n",
       "       [10, 11, 12, 13, 14, 15, 16, 17, 18, 19],\n",
       "       [20, 21, 22, 23, 24, 25, 26, 27, 28, 29],\n",
       "       [30, 31, 32, 33, 34, 35, 36, 37, 38, 39],\n",
       "       [40, 41, 42, 43, 44, 45, 46, 47, 48, 49],\n",
       "       [50, 51, 52, 53, 54, 55, 56, 57, 58, 59],\n",
       "       [60, 61, 62, 63, 64, 65, 66, 67, 68, 69],\n",
       "       [70, 71, 72, 73, 74, 75, 76, 77, 78, 79],\n",
       "       [80, 81, 82, 83, 84, 85, 86, 87, 88, 89],\n",
       "       [90, 91, 92, 93, 94, 95, 96, 97, 98, 99]])"
      ]
     },
     "execution_count": 18,
     "metadata": {},
     "output_type": "execute_result"
    }
   ],
   "source": [
    "arr = np.arange(0, 100).reshape(10, 10)\n",
    "arr"
   ]
  },
  {
   "cell_type": "markdown",
   "metadata": {},
   "source": [
    "### Selection of values at desired index"
   ]
  },
  {
   "cell_type": "code",
   "execution_count": 19,
   "metadata": {},
   "outputs": [
    {
     "name": "stdout",
     "output_type": "stream",
     "text": [
      "Selected_value:  0\n",
      "Selected_value:  33\n",
      "Selected_value:  88\n"
     ]
    }
   ],
   "source": [
    "val_0 = arr[0, 0] # selecting 0th row and 0th column i.e. 0.\n",
    "print(\"Selected_value: \", val_0) \n",
    "\n",
    "val_33 = arr[3, 3] # selecting element in 3rd row and 3rd column i.e. 33.\n",
    "print(\"Selected_value: \", val_33)\n",
    "\n",
    "val_88 = arr[8, 8] # selecting element in 8th row and 8th column i.e. 88.\n",
    "print(\"Selected_value: \", val_88)\n",
    "\n"
   ]
  },
  {
   "cell_type": "markdown",
   "metadata": {},
   "source": [
    "### Slicing an array"
   ]
  },
  {
   "cell_type": "code",
   "execution_count": 20,
   "metadata": {},
   "outputs": [
    {
     "data": {
      "text/plain": [
       "array([[ 0,  1,  2,  3,  4,  5,  6,  7,  8,  9],\n",
       "       [10, 11, 12, 13, 14, 15, 16, 17, 18, 19],\n",
       "       [20, 21, 22, 23, 24, 25, 26, 27, 28, 29],\n",
       "       [30, 31, 32, 33, 34, 35, 36, 37, 38, 39],\n",
       "       [40, 41, 42, 43, 44, 45, 46, 47, 48, 49],\n",
       "       [50, 51, 52, 53, 54, 55, 56, 57, 58, 59],\n",
       "       [60, 61, 62, 63, 64, 65, 66, 67, 68, 69],\n",
       "       [70, 71, 72, 73, 74, 75, 76, 77, 78, 79],\n",
       "       [80, 81, 82, 83, 84, 85, 86, 87, 88, 89],\n",
       "       [90, 91, 92, 93, 94, 95, 96, 97, 98, 99]])"
      ]
     },
     "execution_count": 20,
     "metadata": {},
     "output_type": "execute_result"
    }
   ],
   "source": [
    "arr = np.arange(0, 100).reshape(10, 10)\n",
    "arr"
   ]
  },
  {
   "cell_type": "code",
   "execution_count": null,
   "metadata": {},
   "outputs": [
    {
     "name": "stdout",
     "output_type": "stream",
     "text": [
      "3 X 3 array:\n",
      " [[40 41 42]\n",
      " [50 51 52]\n",
      " [60 61 62]]\n",
      "Shape:  (3, 3)\n"
     ]
    }
   ],
   "source": [
    "# Creating a 3x3 array with slicing.\n",
    "\n",
    "sliced_3x3_array = arr[4:7, 0:3] # --> It means start from 4th index row upto 7th index row (excluded) and start from column 0 upto 3rd column (excluded).\n",
    "print(\"3 X 3 array:\\n\", sliced_3x3_array)\n",
    "print(\"Shape: \", sliced_3x3_array.shape)"
   ]
  },
  {
   "cell_type": "markdown",
   "metadata": {},
   "source": [
    "## Array Broadcasting\n",
    "\n",
    "Broadcasting allows numpy with arrays of different dimensions perform element-wise operations. The smaller is stretched or broacast across larger array\n",
    "so that they have compatible shapes. This avoids loops.\n",
    "\n",
    "During broadcasting physcial shape/dimensions of smaller array are not changed, It only behaves larger array.\n"
   ]
  },
  {
   "cell_type": "code",
   "execution_count": 22,
   "metadata": {},
   "outputs": [
    {
     "name": "stdout",
     "output_type": "stream",
     "text": [
      "[[ 4  5  6  7  8]\n",
      " [ 9 10 11 12 13]]\n"
     ]
    }
   ],
   "source": [
    "big_arr = np.array([[3, 4, 5, 6, 7], [8, 9, 10, 11, 12]]) # 2-dimensional array.\n",
    "small_arr = np.array([1]) # 1-dimensional array with only single element.\n",
    "\n",
    "new_arr = big_arr + small_arr\n",
    "print(new_arr)\n",
    "\n",
    "# Notice that dimensions of array differ but addition is still performed due to broadcasting.\n",
    "# small_arr is stretched to match big_arr, making the addition possible."
   ]
  },
  {
   "cell_type": "markdown",
   "metadata": {},
   "source": [
    "## Conditonal Selection in Arrays.\n",
    "Conditional Selection allows you select elements from an array based on specific condition.\n",
    "\n",
    "This allows you to filter array based on some condition.\n",
    "\n",
    "It is performed element-wise i.e. on every single element of an array.\n",
    "\n",
    "It creates a boolean array equivalent to the size of original array which can then be used for filtering."
   ]
  },
  {
   "cell_type": "code",
   "execution_count": 23,
   "metadata": {},
   "outputs": [
    {
     "name": "stdout",
     "output_type": "stream",
     "text": [
      "[[ 0  1  2  3  4  5  6  7  8  9]\n",
      " [10 11 12 13 14 15 16 17 18 19]\n",
      " [20 21 22 23 24 25 26 27 28 29]\n",
      " [30 31 32 33 34 35 36 37 38 39]\n",
      " [40 41 42 43 44 45 46 47 48 49]]\n"
     ]
    }
   ],
   "source": [
    "arr = np.arange(0, 50).reshape(5, 10)\n",
    "print(arr)"
   ]
  },
  {
   "cell_type": "code",
   "execution_count": 24,
   "metadata": {},
   "outputs": [
    {
     "data": {
      "text/plain": [
       "array([[False, False, False, False, False, False, False, False, False,\n",
       "        False],\n",
       "       [False,  True,  True,  True,  True,  True,  True,  True,  True,\n",
       "         True],\n",
       "       [ True,  True,  True,  True,  True,  True,  True,  True,  True,\n",
       "         True],\n",
       "       [ True,  True,  True,  True,  True,  True,  True,  True,  True,\n",
       "         True],\n",
       "       [ True,  True,  True,  True,  True,  True,  True,  True,  True,\n",
       "         True]])"
      ]
     },
     "execution_count": 24,
     "metadata": {},
     "output_type": "execute_result"
    }
   ],
   "source": [
    "arr > 10  \n",
    "\n",
    "# Checking which elements are greater than 10. It returns true for those elements which are greater than 10.\n",
    "# Note that shape/dimensions of boolean array is same as that of original array."
   ]
  },
  {
   "cell_type": "markdown",
   "metadata": {},
   "source": [
    "### Filtering array based on boolean array."
   ]
  },
  {
   "cell_type": "code",
   "execution_count": 25,
   "metadata": {},
   "outputs": [
    {
     "name": "stdout",
     "output_type": "stream",
     "text": [
      "[ 0  2  4  6  8 10 12 14 16 18 20 22 24 26 28 30 32 34 36 38 40 42 44 46\n",
      " 48]\n"
     ]
    }
   ],
   "source": [
    "bool_arr = arr % 2 == 0 # condition to create boolean array to filter even numbers.\n",
    "\n",
    "# Apply boolean array on real array to filter.\n",
    "\n",
    "even_arr = arr[bool_arr]\n",
    "print(even_arr)"
   ]
  },
  {
   "cell_type": "markdown",
   "metadata": {},
   "source": [
    "### Prime Number Example"
   ]
  },
  {
   "cell_type": "code",
   "execution_count": 26,
   "metadata": {},
   "outputs": [
    {
     "name": "stdout",
     "output_type": "stream",
     "text": [
      "[ 2  3  5  7 11 13 17 19 23 29 31 37 41 43 47]\n"
     ]
    }
   ],
   "source": [
    "def is_prime(n):\n",
    "    \"\"\"Check if a number is prime.\"\"\"\n",
    "    if n <= 1:\n",
    "        return False\n",
    "    for i in range(2, int(n**0.5) + 1):\n",
    "        if n % i == 0:\n",
    "            return False\n",
    "    return True\n",
    "\n",
    "prime_mask = np.vectorize(is_prime)(arr) # np.vectorize is used to apply function to entire array element-wise.\n",
    "                                         # np.vectorize takes e function as an argument.\n",
    "prime_num_arr = arr[prime_mask]\n",
    "print(prime_num_arr)"
   ]
  },
  {
   "cell_type": "markdown",
   "metadata": {},
   "source": [
    "# Universal Numpy Functions"
   ]
  },
  {
   "cell_type": "markdown",
   "metadata": {},
   "source": [
    "## Statistical Functions"
   ]
  },
  {
   "cell_type": "code",
   "execution_count": 27,
   "metadata": {},
   "outputs": [
    {
     "data": {
      "text/plain": [
       "array([[ 0,  1,  2,  3,  4],\n",
       "       [ 5,  6,  7,  8,  9],\n",
       "       [10, 11, 12, 13, 14],\n",
       "       [15, 16, 17, 18, 19],\n",
       "       [20, 21, 22, 23, 24]])"
      ]
     },
     "execution_count": 27,
     "metadata": {},
     "output_type": "execute_result"
    }
   ],
   "source": [
    "arr = np.arange(0, 25).reshape(5, 5)\n",
    "arr"
   ]
  },
  {
   "cell_type": "markdown",
   "metadata": {},
   "source": [
    "### np.mean"
   ]
  },
  {
   "cell_type": "code",
   "execution_count": 28,
   "metadata": {},
   "outputs": [
    {
     "name": "stdout",
     "output_type": "stream",
     "text": [
      "Mean: 12.0\n"
     ]
    }
   ],
   "source": [
    "mean = np.mean(arr)\n",
    "print(\"Mean:\", mean)"
   ]
  },
  {
   "cell_type": "markdown",
   "metadata": {},
   "source": [
    "### np.sum"
   ]
  },
  {
   "cell_type": "code",
   "execution_count": 29,
   "metadata": {},
   "outputs": [
    {
     "name": "stdout",
     "output_type": "stream",
     "text": [
      "Sum: 300\n"
     ]
    }
   ],
   "source": [
    "Sum = np.sum(arr)\n",
    "print(\"Sum:\", Sum)"
   ]
  },
  {
   "cell_type": "markdown",
   "metadata": {},
   "source": [
    "### np.median"
   ]
  },
  {
   "cell_type": "code",
   "execution_count": 30,
   "metadata": {},
   "outputs": [
    {
     "name": "stdout",
     "output_type": "stream",
     "text": [
      "Median: 12.0\n"
     ]
    }
   ],
   "source": [
    "median = np.median(arr)\n",
    "print(\"Median:\", median)"
   ]
  },
  {
   "cell_type": "markdown",
   "metadata": {},
   "source": [
    "### np.var"
   ]
  },
  {
   "cell_type": "code",
   "execution_count": 31,
   "metadata": {},
   "outputs": [
    {
     "name": "stdout",
     "output_type": "stream",
     "text": [
      "Variance: 52.0\n"
     ]
    }
   ],
   "source": [
    "variance = np.var(arr) # it calculates variance for an array.\n",
    "print(\"Variance:\", variance)"
   ]
  },
  {
   "cell_type": "markdown",
   "metadata": {},
   "source": [
    "### np.std"
   ]
  },
  {
   "cell_type": "code",
   "execution_count": 32,
   "metadata": {},
   "outputs": [
    {
     "name": "stdout",
     "output_type": "stream",
     "text": [
      "Standard_deviation: 7.211102550927978\n"
     ]
    }
   ],
   "source": [
    "standard_deviation = np.std(arr)\n",
    "print(\"Standard_deviation:\", standard_deviation)"
   ]
  },
  {
   "cell_type": "markdown",
   "metadata": {},
   "source": [
    "## Trignometric Functions"
   ]
  },
  {
   "cell_type": "markdown",
   "metadata": {},
   "source": [
    "### np.sin"
   ]
  },
  {
   "cell_type": "code",
   "execution_count": 33,
   "metadata": {},
   "outputs": [
    {
     "name": "stdout",
     "output_type": "stream",
     "text": [
      "Sine array:\n",
      " [[ 0.          0.84147098  0.90929743  0.14112001 -0.7568025 ]\n",
      " [-0.95892427 -0.2794155   0.6569866   0.98935825  0.41211849]\n",
      " [-0.54402111 -0.99999021 -0.53657292  0.42016704  0.99060736]\n",
      " [ 0.65028784 -0.28790332 -0.96139749 -0.75098725  0.14987721]\n",
      " [ 0.91294525  0.83665564 -0.00885131 -0.8462204  -0.90557836]]\n"
     ]
    }
   ],
   "source": [
    "sine = np.sin(arr) # computes sine of each element in the array and return an array.\n",
    "print(\"Sine array:\\n\", sine)"
   ]
  },
  {
   "cell_type": "markdown",
   "metadata": {},
   "source": [
    "### np.cos"
   ]
  },
  {
   "cell_type": "code",
   "execution_count": 34,
   "metadata": {},
   "outputs": [
    {
     "name": "stdout",
     "output_type": "stream",
     "text": [
      "Cosine array:\n",
      " [[ 1.          0.54030231 -0.41614684 -0.9899925  -0.65364362]\n",
      " [ 0.28366219  0.96017029  0.75390225 -0.14550003 -0.91113026]\n",
      " [-0.83907153  0.0044257   0.84385396  0.90744678  0.13673722]\n",
      " [-0.75968791 -0.95765948 -0.27516334  0.66031671  0.98870462]\n",
      " [ 0.40808206 -0.54772926 -0.99996083 -0.53283302  0.42417901]]\n"
     ]
    }
   ],
   "source": [
    "cosine = np.cos(arr) # Computes cos for each element in the array returns an array.\n",
    "print(\"Cosine array:\\n\", cosine)"
   ]
  },
  {
   "cell_type": "markdown",
   "metadata": {},
   "source": [
    "### np.tan"
   ]
  },
  {
   "cell_type": "code",
   "execution_count": 35,
   "metadata": {},
   "outputs": [
    {
     "name": "stdout",
     "output_type": "stream",
     "text": [
      "Tangent array:\n",
      " [[ 0.00000000e+00  1.55740772e+00 -2.18503986e+00 -1.42546543e-01\n",
      "   1.15782128e+00]\n",
      " [-3.38051501e+00 -2.91006191e-01  8.71447983e-01 -6.79971146e+00\n",
      "  -4.52315659e-01]\n",
      " [ 6.48360827e-01 -2.25950846e+02 -6.35859929e-01  4.63021133e-01\n",
      "   7.24460662e+00]\n",
      " [-8.55993401e-01  3.00632242e-01  3.49391565e+00 -1.13731371e+00\n",
      "   1.51589471e-01]\n",
      " [ 2.23716094e+00 -1.52749853e+00  8.85165604e-03  1.58815308e+00\n",
      "  -2.13489670e+00]]\n"
     ]
    }
   ],
   "source": [
    "tangent = np.tan(arr) # Computes tan for each element in the array returns an array.\n",
    "print(\"Tangent array:\\n\", tangent)"
   ]
  },
  {
   "cell_type": "markdown",
   "metadata": {},
   "source": [
    "### np.arcsin"
   ]
  },
  {
   "cell_type": "code",
   "execution_count": 36,
   "metadata": {},
   "outputs": [
    {
     "name": "stdout",
     "output_type": "stream",
     "text": [
      "Inverse Sine Array:\n",
      " [[0.         1.57079633        nan        nan        nan]\n",
      " [       nan        nan        nan        nan        nan]\n",
      " [       nan        nan        nan        nan        nan]\n",
      " [       nan        nan        nan        nan        nan]\n",
      " [       nan        nan        nan        nan        nan]]\n"
     ]
    },
    {
     "name": "stderr",
     "output_type": "stream",
     "text": [
      "C:\\Users\\Waqar\\AppData\\Local\\Temp\\ipykernel_11544\\2470109983.py:1: RuntimeWarning: invalid value encountered in arcsin\n",
      "  inverse_sine = np.arcsin(arr) # Computes sine inverse(sin^-1) for each element and return an array.\n"
     ]
    }
   ],
   "source": [
    "inverse_sine = np.arcsin(arr) # Computes sine inverse(sin^-1) for each element and return an array.\n",
    "print(\"Inverse Sine Array:\\n\", inverse_sine)"
   ]
  },
  {
   "cell_type": "markdown",
   "metadata": {},
   "source": [
    "Note: The above warning occurs when input values are outside valid range of arcsin i.e. [-1, 1]. It applies to all inverse trignometric functions."
   ]
  },
  {
   "cell_type": "markdown",
   "metadata": {},
   "source": [
    "### np.arccos"
   ]
  },
  {
   "cell_type": "code",
   "execution_count": 37,
   "metadata": {},
   "outputs": [
    {
     "name": "stdout",
     "output_type": "stream",
     "text": [
      "Inverse Cosine array:\n",
      " [[1.57079633 0.                nan        nan        nan]\n",
      " [       nan        nan        nan        nan        nan]\n",
      " [       nan        nan        nan        nan        nan]\n",
      " [       nan        nan        nan        nan        nan]\n",
      " [       nan        nan        nan        nan        nan]]\n"
     ]
    },
    {
     "name": "stderr",
     "output_type": "stream",
     "text": [
      "C:\\Users\\Waqar\\AppData\\Local\\Temp\\ipykernel_11544\\2942899501.py:1: RuntimeWarning: invalid value encountered in arccos\n",
      "  inverse_cosine =  np.arccos(arr) # Computes inverse cos (cos^-1) for each element and return an array.\n"
     ]
    }
   ],
   "source": [
    "inverse_cosine =  np.arccos(arr) # Computes inverse cos (cos^-1) for each element and return an array.\n",
    "print(\"Inverse Cosine array:\\n\", inverse_cosine)"
   ]
  },
  {
   "cell_type": "markdown",
   "metadata": {},
   "source": [
    "### np.arctan"
   ]
  },
  {
   "cell_type": "code",
   "execution_count": 38,
   "metadata": {},
   "outputs": [
    {
     "name": "stdout",
     "output_type": "stream",
     "text": [
      "Inverse Tangent array:\n",
      " [[0.         0.78539816 1.10714872 1.24904577 1.32581766]\n",
      " [1.37340077 1.40564765 1.42889927 1.44644133 1.46013911]\n",
      " [1.47112767 1.48013644 1.48765509 1.49402444 1.49948886]\n",
      " [1.50422816 1.50837752 1.5120405  1.51529782 1.51821327]\n",
      " [1.52083793 1.52321322 1.52537305 1.52734543 1.52915375]]\n"
     ]
    }
   ],
   "source": [
    "inverse_tangent =  np.arctan(arr) # Computes inverse tan (tan^-1) for each element and return an array.\n",
    "print(\"Inverse Tangent array:\\n\", inverse_tangent)"
   ]
  },
  {
   "cell_type": "markdown",
   "metadata": {},
   "source": [
    "## Simple Mathematical Functions"
   ]
  },
  {
   "cell_type": "code",
   "execution_count": 39,
   "metadata": {},
   "outputs": [
    {
     "name": "stdout",
     "output_type": "stream",
     "text": [
      "Array A:\n",
      " [1 2 3 4]\n",
      "Array B:\n",
      " [6 7 8 9]\n"
     ]
    }
   ],
   "source": [
    "arr_A = np.arange(1, 5)\n",
    "arr_B = np.arange(6, 10)\n",
    "\n",
    "print(\"Array A:\\n\", arr_A)\n",
    "print(\"Array B:\\n\", arr_B)"
   ]
  },
  {
   "cell_type": "markdown",
   "metadata": {},
   "source": [
    "### np.add"
   ]
  },
  {
   "cell_type": "code",
   "execution_count": 40,
   "metadata": {},
   "outputs": [
    {
     "name": "stdout",
     "output_type": "stream",
     "text": [
      "Sum Array:\n",
      " [ 7  9 11 13]\n"
     ]
    }
   ],
   "source": [
    "sum_arr = np.add(arr_A, arr_B) # performs addition element-wise and returns an array. \n",
    "print(\"Sum Array:\\n\", sum_arr)"
   ]
  },
  {
   "cell_type": "markdown",
   "metadata": {},
   "source": [
    "### np.subtract"
   ]
  },
  {
   "cell_type": "code",
   "execution_count": 41,
   "metadata": {},
   "outputs": [
    {
     "name": "stdout",
     "output_type": "stream",
     "text": [
      "Difference Array:\n",
      " [-5 -5 -5 -5]\n"
     ]
    }
   ],
   "source": [
    "difference_arr = np.subtract(arr_A, arr_B) # performs subtraction element-wise and returns an array. \n",
    "print(\"Difference Array:\\n\", difference_arr)"
   ]
  },
  {
   "cell_type": "markdown",
   "metadata": {},
   "source": [
    "### np.multiply"
   ]
  },
  {
   "cell_type": "code",
   "execution_count": 42,
   "metadata": {},
   "outputs": [
    {
     "name": "stdout",
     "output_type": "stream",
     "text": [
      "Product Array:\n",
      " [ 6 14 24 36]\n"
     ]
    }
   ],
   "source": [
    "product_arr = np.multiply(arr_A, arr_B) # performs multiplication element-wise and returns an array. \n",
    "print(\"Product Array:\\n\", product_arr)"
   ]
  },
  {
   "cell_type": "markdown",
   "metadata": {},
   "source": [
    "### np.divide"
   ]
  },
  {
   "cell_type": "code",
   "execution_count": 43,
   "metadata": {},
   "outputs": [
    {
     "name": "stdout",
     "output_type": "stream",
     "text": [
      "Quotient Array:\n",
      " [0.16666667 0.28571429 0.375      0.44444444]\n"
     ]
    }
   ],
   "source": [
    "quotient_arr = np.divide(arr_A, arr_B) # performs division element-wise and returns an array. \n",
    "print(\"Quotient Array:\\n\", quotient_arr)"
   ]
  },
  {
   "cell_type": "markdown",
   "metadata": {},
   "source": [
    "### np.power"
   ]
  },
  {
   "cell_type": "code",
   "execution_count": 44,
   "metadata": {},
   "outputs": [
    {
     "name": "stdout",
     "output_type": "stream",
     "text": [
      "Resultant Array:\n",
      " [     1    128   6561 262144]\n"
     ]
    }
   ],
   "source": [
    "result = np.power(arr_A, arr_B) # performs raise arr_A to the power of arr_B element-wise i.e. arr_A^arr_B.\n",
    "print(\"Resultant Array:\\n\", result)"
   ]
  }
 ],
 "metadata": {
  "kernelspec": {
   "display_name": "ML_for_data_science",
   "language": "python",
   "name": "python3"
  },
  "language_info": {
   "codemirror_mode": {
    "name": "ipython",
    "version": 3
   },
   "file_extension": ".py",
   "mimetype": "text/x-python",
   "name": "python",
   "nbconvert_exporter": "python",
   "pygments_lexer": "ipython3",
   "version": "3.12.2"
  }
 },
 "nbformat": 4,
 "nbformat_minor": 2
}
