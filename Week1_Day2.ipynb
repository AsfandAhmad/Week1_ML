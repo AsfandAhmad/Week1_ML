{
  "nbformat": 4,
  "nbformat_minor": 0,
  "metadata": {
    "colab": {
      "provenance": []
    },
    "kernelspec": {
      "name": "python3",
      "display_name": "Python 3"
    },
    "language_info": {
      "name": "python"
    }
  },
  "cells": [
    {
      "cell_type": "code",
      "source": [],
      "metadata": {
        "id": "BwK-F7B3_qJp"
      },
      "execution_count": null,
      "outputs": []
    },
    {
      "cell_type": "code",
      "execution_count": 26,
      "metadata": {
        "colab": {
          "base_uri": "https://localhost:8080/"
        },
        "id": "VmPjKhIJhCCF",
        "outputId": "5561e158-ae71-4493-e140-159f100824f2"
      },
      "outputs": [
        {
          "output_type": "stream",
          "name": "stdout",
          "text": [
            "['ABdul Rahman Azam', 2345, 65.6, True]\n",
            "['ABdul Rahman Azam', 'Ali SHarjeel', 2345, 65.6, True]\n",
            "['ABdul Rahman Azam', 'Ali SHarjeel', 65.6, True]\n",
            "True\n",
            "['ABdul Rahman Azam', 'Ali SHarjeel', 65.6]\n"
          ]
        }
      ],
      "source": [
        "mixed = ['ABdul Rahman Azam', 2345, 65.6, True]\n",
        "print(mixed)\n",
        "\n",
        "# mixed.append('Ali SHarjeel')\n",
        "\n",
        "mixed.insert(1, 'Ali SHarjeel')\n",
        "print(mixed)\n",
        "\n",
        "mixed.remove(2345)\n",
        "print(mixed)\n",
        "\n",
        "\n",
        "popped = mixed.pop()\n",
        "print(popped)\n",
        "print(mixed)"
      ]
    },
    {
      "cell_type": "code",
      "source": [
        "squared = [i**2 for i in range(5)]\n",
        "print(squared)\n",
        "\n",
        "b = []\n",
        "for i in range(5):\n",
        "  b.append(i**2)\n",
        "print(b)\n",
        "\n",
        "matrix = [[i+j for j in range(4)] for i in range(4)]\n",
        "print(matrix)\n",
        "\n",
        "# list -> []\n",
        "\n",
        "a, b, *c = [1,2,3,4,5]\n",
        "print(a)\n",
        "print(b)\n",
        "print(c)"
      ],
      "metadata": {
        "colab": {
          "base_uri": "https://localhost:8080/"
        },
        "id": "hPVcgvMq6faT",
        "outputId": "46926752-6049-4c30-bb99-70205be4add0"
      },
      "execution_count": 41,
      "outputs": [
        {
          "output_type": "stream",
          "name": "stdout",
          "text": [
            "[0, 1, 4, 9, 16]\n",
            "[0, 1, 4, 9, 16]\n",
            "[[0, 1, 2, 3], [1, 2, 3, 4], [2, 3, 4, 5], [3, 4, 5, 6]]\n",
            "1\n",
            "2\n",
            "[3, 4, 5]\n"
          ]
        }
      ]
    },
    {
      "cell_type": "code",
      "source": [
        "student = {\n",
        "    'name': 'Alice',\n",
        "    'age': 20,\n",
        "    'grades': [85, 90, 78],\n",
        "}\n",
        "\n",
        "cars = {\n",
        "    1:1,\n",
        "    2:2,\n",
        "    3:3\n",
        "}\n",
        "\n",
        "squares = {\n",
        "    x: x**2 for x in range(5)\n",
        "}\n",
        "\n",
        "# dictionary -> {key:value}\n",
        "\n",
        "print(student)\n",
        "student['good teacher'] = 'Principle'\n",
        "print(student)\n",
        "# print(squares)\n",
        "\n",
        "# print(student.keys())\n",
        "# print(student.values())\n",
        "# print(student.items())\n",
        "\n",
        "# for key, value in student.items():\n",
        "#   print(key, value)\n",
        "\n",
        "print(student.get('grades'))\n",
        "print(student['grades'])"
      ],
      "metadata": {
        "colab": {
          "base_uri": "https://localhost:8080/"
        },
        "id": "QPLmp4OsCTrM",
        "outputId": "09291ba0-e9bc-4b8b-bcd2-60603abc15ba"
      },
      "execution_count": 59,
      "outputs": [
        {
          "output_type": "stream",
          "name": "stdout",
          "text": [
            "{'name': 'Alice', 'age': 20, 'grades': [85, 90, 78]}\n",
            "{'name': 'Alice', 'age': 20, 'grades': [85, 90, 78], 'good teacher': 'Principle'}\n",
            "[85, 90, 78]\n",
            "[85, 90, 78]\n"
          ]
        }
      ]
    },
    {
      "cell_type": "code",
      "source": [
        "colors = {'red', 'green', 'blue', 'green'}\n",
        "num = [1, 2, 2, 3, 3, 4]\n",
        "numbers = set(num)\n",
        "numbers = {1,2,2,3,3,4}\n",
        "\n",
        "print(colors)\n",
        "# print(numbers)\n",
        "\n",
        "num = {'abvc',123}\n",
        "print(num)\n",
        "\n",
        "num1 = {1,2,3,4}\n",
        "num2 = {3,4,5,6}\n",
        "\n",
        "union = num1 | num2\n",
        "print(union)\n",
        "\n",
        "intersection = num1 & num2\n",
        "print(intersection)\n",
        "\n",
        "difference = num2 - num1\n",
        "print(difference)"
      ],
      "metadata": {
        "colab": {
          "base_uri": "https://localhost:8080/"
        },
        "id": "Xuc_YC2SEWJf",
        "outputId": "633798be-a962-4a48-eeb3-237533b650b9"
      },
      "execution_count": 69,
      "outputs": [
        {
          "output_type": "stream",
          "name": "stdout",
          "text": [
            "{'green', 'blue', 'red'}\n",
            "{123, 'abvc'}\n",
            "{1, 2, 3, 4, 5, 6}\n",
            "{3, 4}\n",
            "{5, 6}\n"
          ]
        }
      ]
    },
    {
      "cell_type": "code",
      "source": [
        "str1 = \"abdul rahman azam\"\n",
        "str2 = \"abdul rahman azam\"\n",
        "\n",
        "# str1= str1.capitalize()\n",
        "# str2 = str2.title()\n",
        "\n",
        "# print(str1)\n",
        "# print(str2)\n",
        "\n",
        "# print(str1.find('rahman')) # substring -> index\n",
        "# print(str1.count('m')) # substring -> counts of particular substring\n",
        "# print(str1.startswith('a')) # prefix -> enter a substring eitherr it is first or not\n",
        "# print(str1.endswith('m')) # suffix 0> enter the substring either it is last or not\n",
        "\n",
        "\n",
        "# print(str1.replace('rahman', 'RAHMAN'))\n",
        "# print(str1)\n",
        "# print(str1.strip())\n",
        "# print(str1.split('a')) # delimeter\n",
        "# str.join(iterable)\n",
        "\n",
        "name = 'agdadsg'\n",
        "age = 2345\n",
        "message = f\"Hello, {name}! You are {age} years old.\"\n",
        "print(message)"
      ],
      "metadata": {
        "colab": {
          "base_uri": "https://localhost:8080/"
        },
        "id": "p4Ps8qooGbvz",
        "outputId": "e6db40f7-8673-4823-9b97-b302eafffaf0"
      },
      "execution_count": 110,
      "outputs": [
        {
          "output_type": "stream",
          "name": "stdout",
          "text": [
            "Hello, agdadsg! You are 2345 years old.\n"
          ]
        }
      ]
    }
  ]
}