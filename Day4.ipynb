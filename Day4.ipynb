{
  "nbformat": 4,
  "nbformat_minor": 0,
  "metadata": {
    "colab": {
      "provenance": []
    },
    "kernelspec": {
      "name": "python3",
      "display_name": "Python 3"
    },
    "language_info": {
      "name": "python"
    }
  },
  "cells": [
    {
      "cell_type": "markdown",
      "source": [
        "Arthematic Operations"
      ],
      "metadata": {
        "id": "rvSb035vPtbM"
      }
    },
    {
      "cell_type": "code",
      "source": [
        "import numpy as np"
      ],
      "metadata": {
        "id": "xIMDfS9NPw1A"
      },
      "execution_count": null,
      "outputs": []
    },
    {
      "cell_type": "code",
      "source": [
        "arr1 = np.array([2,3,4])\n",
        "arr2 = np.array([5,6,7])\n",
        "# condition for adddition/Subraction/multiplcation.... is that the size\n",
        "# equal of both vectors\n",
        "arr3 = arr1 + arr2\n",
        "print(arr3)"
      ],
      "metadata": {
        "colab": {
          "base_uri": "https://localhost:8080/"
        },
        "id": "YLoSOlH1P1zG",
        "outputId": "4410c89a-9ec9-43fa-f630-191914cbefd6"
      },
      "execution_count": null,
      "outputs": [
        {
          "output_type": "stream",
          "name": "stdout",
          "text": [
            "[ 7  9 11]\n"
          ]
        }
      ]
    },
    {
      "cell_type": "code",
      "source": [
        "arr4 = arr1 - arr2\n",
        "print(arr4)"
      ],
      "metadata": {
        "colab": {
          "base_uri": "https://localhost:8080/"
        },
        "id": "jGVIgjOzQ9vO",
        "outputId": "0d5d2fc8-50e9-4b6a-ed11-907c10189fbc"
      },
      "execution_count": null,
      "outputs": [
        {
          "output_type": "stream",
          "name": "stdout",
          "text": [
            "[-3 -3 -3]\n"
          ]
        }
      ]
    },
    {
      "cell_type": "code",
      "source": [
        "arr5 = arr1 * arr2\n",
        "print(arr5)"
      ],
      "metadata": {
        "colab": {
          "base_uri": "https://localhost:8080/"
        },
        "id": "fI-o40c_RMJT",
        "outputId": "ef7aac0c-04d2-4f96-aa46-00a4050cc375"
      },
      "execution_count": null,
      "outputs": [
        {
          "output_type": "stream",
          "name": "stdout",
          "text": [
            "[10 18 28]\n"
          ]
        }
      ]
    },
    {
      "cell_type": "code",
      "source": [
        "arr6 = arr1 @ arr2\n",
        "print(arr6)"
      ],
      "metadata": {
        "colab": {
          "base_uri": "https://localhost:8080/"
        },
        "id": "78RHjJL_RfL1",
        "outputId": "412f20c6-bdaa-4df2-f150-02c3f132a992"
      },
      "execution_count": null,
      "outputs": [
        {
          "output_type": "stream",
          "name": "stdout",
          "text": [
            "56\n"
          ]
        }
      ]
    },
    {
      "cell_type": "code",
      "source": [
        "# @ is used for matric multiplication\n",
        "arr1 = np.array(((1,2,3),(4,5,6)))\n",
        "arr2 = np.array(((7,8),(9,10),(11,12)))\n",
        "arr3 = arr1 @ arr2\n",
        "print(arr3)\n"
      ],
      "metadata": {
        "colab": {
          "base_uri": "https://localhost:8080/"
        },
        "id": "11qihXkARyAt",
        "outputId": "5f37f82f-dad5-446f-dab5-1d5a6a3a4408"
      },
      "execution_count": null,
      "outputs": [
        {
          "output_type": "stream",
          "name": "stdout",
          "text": [
            "[[ 58  64]\n",
            " [139 154]]\n"
          ]
        }
      ]
    },
    {
      "cell_type": "code",
      "source": [
        "arr1 = np.array([2,3,4])\n",
        "arr2 = np.array([5,6,7])\n",
        "arr3 = arr2 // arr1\n",
        "print(arr3)"
      ],
      "metadata": {
        "colab": {
          "base_uri": "https://localhost:8080/"
        },
        "id": "ljW3pzchSAu3",
        "outputId": "3822d306-c337-4c53-f67c-914af14bdffc"
      },
      "execution_count": null,
      "outputs": [
        {
          "output_type": "stream",
          "name": "stdout",
          "text": [
            "[2 2 1]\n"
          ]
        }
      ]
    },
    {
      "cell_type": "code",
      "source": [
        "arr4 = arr1 ** arr2\n",
        "print(arr4)"
      ],
      "metadata": {
        "colab": {
          "base_uri": "https://localhost:8080/"
        },
        "id": "9ncvWL5oTSZS",
        "outputId": "71c93db4-044f-4ccd-de22-5cb7270648d5"
      },
      "execution_count": null,
      "outputs": [
        {
          "output_type": "stream",
          "name": "stdout",
          "text": [
            "[   32   729 16384]\n"
          ]
        }
      ]
    },
    {
      "cell_type": "markdown",
      "source": [
        "Numpy Functons"
      ],
      "metadata": {
        "id": "2P3GPl48pJqa"
      }
    },
    {
      "cell_type": "code",
      "source": [
        "np.sqrt(arr2)\n",
        "np.log(arr2)\n",
        "np.sin(arr2)"
      ],
      "metadata": {
        "colab": {
          "base_uri": "https://localhost:8080/"
        },
        "id": "i6xAS4AxTrBO",
        "outputId": "d26953db-39f0-44cf-b43b-16bcbc41fb8e"
      },
      "execution_count": null,
      "outputs": [
        {
          "output_type": "execute_result",
          "data": {
            "text/plain": [
              "array([-0.95892427, -0.2794155 ,  0.6569866 ])"
            ]
          },
          "metadata": {},
          "execution_count": 10
        }
      ]
    },
    {
      "cell_type": "code",
      "source": [
        "var = np.sum(arr1)\n",
        "print(var)\n",
        "pro = np.prod(arr1)\n",
        "print(pro)"
      ],
      "metadata": {
        "colab": {
          "base_uri": "https://localhost:8080/"
        },
        "id": "f_FHyuEIUDf1",
        "outputId": "4270eaf9-43ba-46be-d5c8-a9462017a105"
      },
      "execution_count": null,
      "outputs": [
        {
          "output_type": "stream",
          "name": "stdout",
          "text": [
            "9\n",
            "24\n"
          ]
        }
      ]
    },
    {
      "cell_type": "markdown",
      "source": [
        "Statics Functions"
      ],
      "metadata": {
        "id": "ku2Df1wgpmX7"
      }
    },
    {
      "cell_type": "code",
      "source": [
        "arr = np.array([1,2,3,4,5,6,7,8,9,10])\n",
        "var = np.mean(arr)\n",
        "print(var)\n",
        "var = np.median(arr)\n",
        "print(var)\n",
        "var = np.std(arr)\n",
        "print(var)\n",
        "var = np.var(arr)\n",
        "print(var)"
      ],
      "metadata": {
        "id": "5ncGy2rQUjoB",
        "colab": {
          "base_uri": "https://localhost:8080/"
        },
        "outputId": "5137f7bd-d538-4ac9-e839-2ae6301ad2f0"
      },
      "execution_count": null,
      "outputs": [
        {
          "output_type": "stream",
          "name": "stdout",
          "text": [
            "5.5\n",
            "5.5\n",
            "2.8722813232690143\n",
            "8.25\n"
          ]
        }
      ]
    },
    {
      "cell_type": "markdown",
      "source": [
        "Broadcasting"
      ],
      "metadata": {
        "id": "2s8v2P6aqAQf"
      }
    },
    {
      "cell_type": "code",
      "source": [
        "# broadcasting is conversion of smaller shape to larger\n",
        "arr1 = np.array([[1,2,3],[4,5,6]])\n",
        "arr2 = np.array([1,2,3])\n",
        "arr3 = arr1 + arr2\n",
        "print(arr3)\n",
        "\n",
        "#arr2 is converted to 2D"
      ],
      "metadata": {
        "id": "wPSmupQ1qCja"
      },
      "execution_count": null,
      "outputs": []
    },
    {
      "cell_type": "code",
      "source": [
        "arr1 = np.array([1,2,3])\n",
        "arr2 = np.array([[1],[2], [3]])\n",
        "arr3 = arr1 + arr2\n",
        "print(arr3)"
      ],
      "metadata": {
        "colab": {
          "base_uri": "https://localhost:8080/"
        },
        "id": "YHfRFevjqPMU",
        "outputId": "281cc520-1d4d-401f-e499-b431ac3b6974"
      },
      "execution_count": null,
      "outputs": [
        {
          "output_type": "stream",
          "name": "stdout",
          "text": [
            "[[2 3 4]\n",
            " [3 4 5]\n",
            " [4 5 6]]\n"
          ]
        }
      ]
    },
    {
      "cell_type": "markdown",
      "source": [
        "Comparasion"
      ],
      "metadata": {
        "id": "2YzkCjUOrir2"
      }
    },
    {
      "cell_type": "code",
      "source": [
        "# it basically performs if functionality but more readable\n",
        "arr1 = np.array([1,2,3])\n",
        "arr2 = np.array([5,2,9])\n",
        "arr3 = arr1 == arr2\n",
        "print(arr3)\n",
        "arr3 = np.array((1,2,3))\n",
        "arr4 = (arr1 > arr2) & arr2 == arr3 # multiple conditions\n",
        "print(arr4)\n",
        "\n",
        "#copies only when arr 1 is greater than arr2 else dropped\n",
        "arr4 = arr2[arr2>=5]\n",
        "print(arr4)# 2 dropped\n",
        "\n",
        "arr4[arr4==5]= 10\n",
        "print(arr4)# replaced 5 with 10"
      ],
      "metadata": {
        "colab": {
          "base_uri": "https://localhost:8080/"
        },
        "id": "szWzQAW-rmcL",
        "outputId": "3daa5f8f-f970-4904-f9d5-0a90c019e357"
      },
      "execution_count": null,
      "outputs": [
        {
          "output_type": "stream",
          "name": "stdout",
          "text": [
            "[False  True False]\n",
            "[False False False]\n",
            "[5 9]\n",
            "[10  9]\n"
          ]
        }
      ]
    },
    {
      "cell_type": "code",
      "source": [
        "arr5 = np.logical_and(arr3,arr4)\n",
        "print(arr5)\n",
        "# broadcasting rule is, either size should be equal\n",
        "# else any one of them should be 1 (row/col)"
      ],
      "metadata": {
        "colab": {
          "base_uri": "https://localhost:8080/",
          "height": 158
        },
        "id": "GnfKsWlyskBI",
        "outputId": "8af1f04c-de72-4d6a-c4e4-919d92218f40"
      },
      "execution_count": null,
      "outputs": [
        {
          "output_type": "error",
          "ename": "ValueError",
          "evalue": "operands could not be broadcast together with shapes (3,) (2,) ",
          "traceback": [
            "\u001b[0;31m---------------------------------------------------------------------------\u001b[0m",
            "\u001b[0;31mValueError\u001b[0m                                Traceback (most recent call last)",
            "\u001b[0;32m/tmp/ipython-input-22-1216534630.py\u001b[0m in \u001b[0;36m<cell line: 0>\u001b[0;34m()\u001b[0m\n\u001b[0;32m----> 1\u001b[0;31m \u001b[0marr5\u001b[0m \u001b[0;34m=\u001b[0m \u001b[0mnp\u001b[0m\u001b[0;34m.\u001b[0m\u001b[0mlogical_and\u001b[0m\u001b[0;34m(\u001b[0m\u001b[0marr3\u001b[0m\u001b[0;34m,\u001b[0m\u001b[0marr4\u001b[0m\u001b[0;34m)\u001b[0m\u001b[0;34m\u001b[0m\u001b[0;34m\u001b[0m\u001b[0m\n\u001b[0m\u001b[1;32m      2\u001b[0m \u001b[0mprint\u001b[0m\u001b[0;34m(\u001b[0m\u001b[0marr5\u001b[0m\u001b[0;34m)\u001b[0m\u001b[0;34m\u001b[0m\u001b[0;34m\u001b[0m\u001b[0m\n",
            "\u001b[0;31mValueError\u001b[0m: operands could not be broadcast together with shapes (3,) (2,) "
          ]
        }
      ]
    },
    {
      "cell_type": "code",
      "source": [
        "arr1 = np.array(['True','False','True'])\n",
        "arr2 = np.array(['True','False','True'])\n",
        "arr5 = np.logical_and(arr1,arr2)\n",
        "print(arr5)\n",
        "# broadcasting rule is, either size should be equal\n",
        "# else any one of them should be 1 (row/col)"
      ],
      "metadata": {
        "colab": {
          "base_uri": "https://localhost:8080/"
        },
        "id": "3Hjx9Erys97Z",
        "outputId": "092dba62-0244-4080-de70-0c6a98237eaf"
      },
      "execution_count": null,
      "outputs": [
        {
          "output_type": "stream",
          "name": "stdout",
          "text": [
            "[ True  True  True]\n"
          ]
        }
      ]
    }
  ]
}